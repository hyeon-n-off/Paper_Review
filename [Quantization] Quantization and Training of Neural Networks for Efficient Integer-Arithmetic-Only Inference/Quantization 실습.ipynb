{
 "cells": [
  {
   "cell_type": "markdown",
   "metadata": {},
   "source": [
    "#### 1. 라이브러리 불러오기"
   ]
  },
  {
   "cell_type": "code",
   "execution_count": 1,
   "metadata": {},
   "outputs": [],
   "source": [
    "import numpy as np\n",
    "\n",
    "import torch\n",
    "from torch.utils.data import DataLoader\n",
    "\n",
    "import torchvision\n",
    "import torchvision.transforms as transforms\n",
    "from torchvision.datasets import CIFAR100\n",
    " \n",
    "import torch.nn as nn\n",
    "import torch.optim as optim\n",
    "\n",
    "\n",
    "from torchvision.models import mobilenet_v2\n",
    "from torch.quantization import FakeQuantize, QuantStub, DeQuantStub\n",
    "\n",
    "from tqdm.auto import tqdm"
   ]
  },
  {
   "cell_type": "code",
   "execution_count": 2,
   "metadata": {},
   "outputs": [
    {
     "name": "stdout",
     "output_type": "stream",
     "text": [
      "True\n"
     ]
    }
   ],
   "source": [
    "print(torch.cuda.is_available())"
   ]
  },
  {
   "cell_type": "markdown",
   "metadata": {},
   "source": [
    "#### 2. CIFAR100 데이터셋 불러오기"
   ]
  },
  {
   "cell_type": "code",
   "execution_count": 2,
   "metadata": {},
   "outputs": [
    {
     "name": "stdout",
     "output_type": "stream",
     "text": [
      "Files already downloaded and verified\n",
      "Files already downloaded and verified\n"
     ]
    }
   ],
   "source": [
    "# 데이터 준비\n",
    "transform = transforms.Compose([\n",
    "    transforms.Resize((224, 224)),\n",
    "    transforms.ToTensor(),\n",
    "    transforms.Normalize(mean=[0.485, 0.456, 0.406], std=[0.229, 0.224, 0.225]),\n",
    "])\n",
    "\n",
    "train_dataset = CIFAR100(root='./data', train=True, transform=transform, download=True)\n",
    "train_loader = DataLoader(train_dataset, batch_size=32, shuffle=True, num_workers=4)\n",
    "\n",
    "test_dataset = CIFAR100(root='./data', train=False, transform=transform, download=True)\n",
    "test_loader = DataLoader(test_dataset, batch_size=32, shuffle=False, num_workers=4)"
   ]
  },
  {
   "cell_type": "code",
   "execution_count": 5,
   "metadata": {},
   "outputs": [
    {
     "name": "stdout",
     "output_type": "stream",
     "text": [
      "Files already downloaded and verified\n",
      "Files already downloaded and verified\n"
     ]
    }
   ],
   "source": [
    "from torch.utils.data import Subset\n",
    "\n",
    "# 데이터 준비\n",
    "transform = transforms.Compose([\n",
    "    transforms.Resize((224, 224)),\n",
    "    transforms.ToTensor(),\n",
    "    transforms.Normalize(mean=[0.485, 0.456, 0.406], std=[0.229, 0.224, 0.225]),\n",
    "])\n",
    "\n",
    "train_dataset = CIFAR100(root='./data', train=True, transform=transform, download=True)\n",
    "test_dataset = CIFAR100(root='./data', train=False, transform=transform, download=True)\n",
    "\n",
    "# 처음 100개의 샘플만 선택\n",
    "train_subset = Subset(train_dataset, indices=range(100))\n",
    "test_subset = Subset(test_dataset, indices=range(100))\n",
    "\n",
    "train_loader = DataLoader(train_subset, batch_size=32, shuffle=True, num_workers=4)\n",
    "test_loader = DataLoader(test_subset, batch_size=32, shuffle=False, num_workers=4)"
   ]
  },
  {
   "cell_type": "markdown",
   "metadata": {},
   "source": [
    "#### 3. 모델 정의 및 함수 정의하기"
   ]
  },
  {
   "cell_type": "code",
   "execution_count": 6,
   "metadata": {},
   "outputs": [],
   "source": [
    "# EMA(Exponential Moving Averages) 클래스 정의\n",
    "class EMA:\n",
    "    def __init__(self, alpha=0.99):\n",
    "        self.alpha = alpha\n",
    "        self.ema_value = None\n",
    "\n",
    "    def update(self, value):\n",
    "        if self.ema_value is None:\n",
    "            self.ema_value = value\n",
    "        else:\n",
    "            self.ema_value = self.alpha * self.ema_value + (1 - self.alpha) * value\n",
    "        return self.ema_value"
   ]
  },
  {
   "cell_type": "code",
   "execution_count": 8,
   "metadata": {},
   "outputs": [],
   "source": [
    "class QuantizedMobileNet(nn.Module):\n",
    "    def __init__(self, num_classes=100, pretrained=True):\n",
    "        super().__init__()\n",
    "        self.model = mobilenet_v2(pretrained=pretrained)\n",
    "        \n",
    "        # Classifier 출력 조정 (CIFAR100: num_classes=100)\n",
    "        self.model.classifier[1] = nn.Linear(self.model.last_channel, num_classes)\n",
    "        \n",
    "        # FBN 적용: BatchNorm을 Fold하여 가중치 및 편향을 업데이트\n",
    "        self._fold_bn(self.model)\n",
    "        \n",
    "        # FakeQuantize 설정\n",
    "        self.weight_fake_quant = FakeQuantize(observer=torch.quantization.MinMaxObserver, quant_min=-127, quant_max=127, dtype=torch.qint8)\n",
    "        self.activation_fake_quant = FakeQuantize(observer=torch.quantization.MovingAverageMinMaxObserver, quant_min=0, quant_max=255, dtype=torch.quint8)\n",
    "        \n",
    "        # EMA 활성화 범위 추정을 위한 객체\n",
    "        self.activation_ema = EMA(alpha=0.99)\n",
    "\n",
    "        # 활성화 및 비활성화 도우미\n",
    "        self.quant = QuantStub()\n",
    "        self.dequant = DeQuantStub()\n",
    "\n",
    "    def _fold_bn(self, model):\n",
    "        \"\"\"Batch Normalization Folding\"\"\"\n",
    "        # 모든 BatchNorm2d 모듈 미리 수집\n",
    "        bn_modules = [(name, module) for name, module in model.named_modules() \n",
    "                      if isinstance(module, nn.BatchNorm2d)]\n",
    "        \n",
    "        for name, bn_module in bn_modules:\n",
    "            gamma = bn_module.weight\n",
    "            beta = bn_module.bias\n",
    "            mean = bn_module.running_mean\n",
    "            var = bn_module.running_var\n",
    "            epsilon = bn_module.eps\n",
    "\n",
    "            # 부모 모듈에서 컨볼루션 레이어 찾기\n",
    "            parent_name = name.rsplit('.', 1)[0]\n",
    "            conv_layer = None\n",
    "\n",
    "            for n, m in model.named_modules():\n",
    "                if n == parent_name:\n",
    "                    for sub_name, sub_module in m.named_modules():\n",
    "                        if isinstance(sub_module, nn.Conv2d):\n",
    "                            conv_layer = sub_module\n",
    "                            break\n",
    "                    break\n",
    "            \n",
    "            if conv_layer is not None:\n",
    "                gamma_factor = (gamma / torch.sqrt(var + epsilon))\n",
    "                expansion_factor = 1\n",
    "\n",
    "                if conv_layer.weight.size(0) % gamma_factor.size(0) == 0:\n",
    "                    expansion_factor = conv_layer.weight.size(0) // gamma_factor.size(0)\n",
    "\n",
    "                    gamma_factor = gamma_factor.view(-1, 1, 1, 1).repeat_interleave(expansion_factor, dim=0)\n",
    "                    # gamma_factor를 conv_layer의 weight 차원과 맞게 확장\n",
    "                    gamma_factor = gamma_factor.expand_as(conv_layer.weight)\n",
    "                \n",
    "                else:\n",
    "                    gamma_factor = nn.functional.interpolate(\n",
    "                        gamma_factor.view(1, 1, -1, 1),\n",
    "                        size=(conv_layer.weight.size(0), conv_layer.weight.size(1)),\n",
    "                        mode='nearest',\n",
    "                    )\n",
    "                    gamma_factor = gamma_factor.permute(2, 3, 0, 1).expand_as(conv_layer.weight)\n",
    "                 \n",
    "                w_folded = conv_layer.weight * gamma_factor\n",
    "\n",
    "                # 편향이 없다면 새로 생성\n",
    "                if conv_layer.bias is None:\n",
    "                    conv_layer.bias = nn.Parameter(torch.zeros(conv_layer.weight.size(0), device=conv_layer.weight.device))\n",
    "                    \n",
    "                # 기존의 편향이 있다면 weight 첫 번째 차원의 크기에 맞게 변경\n",
    "                else:\n",
    "                    if conv_layer.weight.size(0) % conv_layer.bias.size(0) == 0:\n",
    "                        conv_layer.bias = nn.Parameter(\n",
    "                            conv_layer.bias.repeat_interleave(conv_layer.weight.size(0) // conv_layer.bias.size(0), dim=0)\n",
    "                        )\n",
    "                    else:\n",
    "                        conv_layer.bias = nn.Parameter(\n",
    "                            nn.functional.interpolate(conv_layer.bias, size=conv_layer.weight.size(0), mode='nearest')\n",
    "                        )\n",
    "\n",
    "                bias_factor = gamma * mean / torch.sqrt(var + epsilon)\n",
    "                \n",
    "                if conv_layer.bias.size(0) % bias_factor.size(0) == 0:\n",
    "                    bias_factor = bias_factor.repeat_interleave(conv_layer.bias.size(0) // bias_factor.size(0), dim=0)\n",
    "\n",
    "                    b_folded = conv_layer.bias - bias_factor\n",
    "                    \n",
    "                else:\n",
    "                    bias_factor = bias_factor.repeat_interleave(conv_layer.bias.size(0) // bias_factor.size(0) + 1, dim=0)\n",
    "                    \n",
    "                    new_bias = torch.zeros(conv_layer.bias.size(0))\n",
    "                    window_size = bias_factor.size(0) - conv_layer.bias.size(0) + 1\n",
    "\n",
    "                    for i in range(conv_layer.bias.size(0)):\n",
    "                        new_bias[i] = bias_factor[i:i + window_size].mean()\n",
    "                    \n",
    "                    b_folded = conv_layer.bias - new_bias\n",
    "                \n",
    "                conv_layer.weight = nn.Parameter(w_folded)\n",
    "                conv_layer.bias = nn.Parameter(b_folded)\n",
    "\n",
    "                # Remove BatchNorm layer\n",
    "                parent_module = model.get_submodule(parent_name)\n",
    "                for sub_name, sub_module in parent_module.named_children():\n",
    "                    if isinstance(sub_module, nn.BatchNorm2d):\n",
    "                        setattr(parent_module, sub_name, nn.Identity())\n",
    "\n",
    "    def forward(self, x):\n",
    "        # Fake Quantization\n",
    "        x = self.quant(x)\n",
    "        x = self.model.features(x)\n",
    "        x = nn.functional.adaptive_avg_pool2d(x, 1)\n",
    "        x = torch.flatten(x, 1)\n",
    "        x = self.activation_fake_quant(x)\n",
    "        x = self.model.classifier(x)\n",
    "        x = self.weight_fake_quant(x)\n",
    "        x = self.dequant(x)\n",
    "\n",
    "        # Update EMA activation range\n",
    "        current_max = x.max().item()\n",
    "        self.activation_ema.update(current_max)\n",
    "        \n",
    "        return x"
   ]
  },
  {
   "cell_type": "code",
   "execution_count": 9,
   "metadata": {},
   "outputs": [],
   "source": [
    "# 모델 학습 함수\n",
    "def train_model(model, train_loader, criterion, optimizer, num_epochs=5):\n",
    "    model.train()\n",
    "    for epoch in range(num_epochs):\n",
    "        running_loss = 0.0\n",
    "        tepoch = tqdm(train_loader, desc=f\"Epoch {epoch + 1}/{num_epochs}\", unit=\"batch\")\n",
    "        \n",
    "        for inputs, labels in tepoch:\n",
    "            inputs, labels = inputs.cuda(), labels.cuda()\n",
    "            optimizer.zero_grad()\n",
    "            outputs = model(inputs)\n",
    "            loss = criterion(outputs, labels)\n",
    "            loss.backward()\n",
    "            optimizer.step()\n",
    "            running_loss += loss.item()\n",
    "            tepoch.set_postfix(loss=running_loss / (tepoch.n or 1))\n",
    "        print(f\"Epoch {epoch + 1}, Loss: {running_loss / len(train_loader)}\")\n",
    "\n",
    "# 모델 평가 함수\n",
    "def evaluate_model(model, test_loader):\n",
    "    model.eval()\n",
    "    correct = 0\n",
    "    total = 0\n",
    "    with torch.no_grad():\n",
    "        ttest = tqdm(test_loader, desc=\"Evaluating\", unit=\"batch\")\n",
    "\n",
    "        for inputs, labels in ttest:\n",
    "            inputs, labels = inputs.cuda(), labels.cuda()\n",
    "            outputs = model(inputs)\n",
    "            _, predicted = torch.max(outputs, 1)\n",
    "            total += labels.size(0)\n",
    "            correct += (predicted == labels).sum().item()\n",
    "    accuracy = correct / total\n",
    "    print(f\"Accuracy: {accuracy * 100:.2f}%\")\n",
    "    return accuracy"
   ]
  },
  {
   "cell_type": "markdown",
   "metadata": {},
   "source": [
    "#### 4. 성능 평가하기"
   ]
  },
  {
   "cell_type": "code",
   "execution_count": 10,
   "metadata": {},
   "outputs": [
    {
     "name": "stdout",
     "output_type": "stream",
     "text": [
      "Training and evaluating the quantized model...\n"
     ]
    },
    {
     "name": "stderr",
     "output_type": "stream",
     "text": [
      "c:\\Users\\MSI\\anaconda3\\envs\\NLP\\Lib\\site-packages\\torchvision\\models\\_utils.py:208: UserWarning: The parameter 'pretrained' is deprecated since 0.13 and may be removed in the future, please use 'weights' instead.\n",
      "  warnings.warn(\n",
      "c:\\Users\\MSI\\anaconda3\\envs\\NLP\\Lib\\site-packages\\torchvision\\models\\_utils.py:223: UserWarning: Arguments other than a weight enum or `None` for 'weights' are deprecated since 0.13 and may be removed in the future. The current behavior is equivalent to passing `weights=MobileNet_V2_Weights.IMAGENET1K_V1`. You can also use `weights=MobileNet_V2_Weights.DEFAULT` to get the most up-to-date weights.\n",
      "  warnings.warn(msg)\n"
     ]
    },
    {
     "data": {
      "application/vnd.jupyter.widget-view+json": {
       "model_id": "21b14f420ac24fea8990655d861ade31",
       "version_major": 2,
       "version_minor": 0
      },
      "text/plain": [
       "Epoch 1/5:   0%|          | 0/4 [00:21<?, ?batch/s]"
      ]
     },
     "metadata": {},
     "output_type": "display_data"
    },
    {
     "name": "stdout",
     "output_type": "stream",
     "text": [
      "Epoch 1, Loss: 4.849008679389954\n"
     ]
    },
    {
     "data": {
      "application/vnd.jupyter.widget-view+json": {
       "model_id": "99f3221678764702920b40738a592dd0",
       "version_major": 2,
       "version_minor": 0
      },
      "text/plain": [
       "Epoch 2/5:   0%|          | 0/4 [00:22<?, ?batch/s]"
      ]
     },
     "metadata": {},
     "output_type": "display_data"
    },
    {
     "name": "stdout",
     "output_type": "stream",
     "text": [
      "Epoch 2, Loss: 4.632986307144165\n"
     ]
    },
    {
     "data": {
      "application/vnd.jupyter.widget-view+json": {
       "model_id": "f33cbb680ab0488982e3aaf03261161d",
       "version_major": 2,
       "version_minor": 0
      },
      "text/plain": [
       "Epoch 3/5:   0%|          | 0/4 [00:22<?, ?batch/s]"
      ]
     },
     "metadata": {},
     "output_type": "display_data"
    },
    {
     "name": "stdout",
     "output_type": "stream",
     "text": [
      "Epoch 3, Loss: 4.584195137023926\n"
     ]
    },
    {
     "data": {
      "application/vnd.jupyter.widget-view+json": {
       "model_id": "fe07bdcea6224d7d9dc2d88278cae3da",
       "version_major": 2,
       "version_minor": 0
      },
      "text/plain": [
       "Epoch 4/5:   0%|          | 0/4 [00:22<?, ?batch/s]"
      ]
     },
     "metadata": {},
     "output_type": "display_data"
    },
    {
     "name": "stdout",
     "output_type": "stream",
     "text": [
      "Epoch 4, Loss: 4.454532146453857\n"
     ]
    },
    {
     "data": {
      "application/vnd.jupyter.widget-view+json": {
       "model_id": "f1595d4f7a37408db988dfbc656b9a5a",
       "version_major": 2,
       "version_minor": 0
      },
      "text/plain": [
       "Epoch 5/5:   0%|          | 0/4 [00:22<?, ?batch/s]"
      ]
     },
     "metadata": {},
     "output_type": "display_data"
    },
    {
     "name": "stdout",
     "output_type": "stream",
     "text": [
      "Epoch 5, Loss: 4.636066198348999\n"
     ]
    },
    {
     "data": {
      "application/vnd.jupyter.widget-view+json": {
       "model_id": "b742d5f52be647b3861e11ea7a3221d8",
       "version_major": 2,
       "version_minor": 0
      },
      "text/plain": [
       "Evaluating:   0%|          | 0/4 [00:19<?, ?batch/s]"
      ]
     },
     "metadata": {},
     "output_type": "display_data"
    },
    {
     "name": "stdout",
     "output_type": "stream",
     "text": [
      "Accuracy: 0.00%\n"
     ]
    }
   ],
   "source": [
    "print(\"Training and evaluating the quantized model...\")\n",
    "quantized_model = QuantizedMobileNet(num_classes=100, pretrained=True)\n",
    "quantized_model = quantized_model.cuda()\n",
    "\n",
    "criterion = nn.CrossEntropyLoss()\n",
    "optimizer = optim.SGD(quantized_model.parameters(), lr=0.01, momentum=0.9)\n",
    "train_model(quantized_model, train_loader, criterion, optimizer, num_epochs=5)\n",
    "quantized_accuracy = evaluate_model(quantized_model, test_loader)"
   ]
  },
  {
   "cell_type": "code",
   "execution_count": 11,
   "metadata": {},
   "outputs": [
    {
     "name": "stdout",
     "output_type": "stream",
     "text": [
      "Training and evaluating the original model...\n"
     ]
    },
    {
     "data": {
      "application/vnd.jupyter.widget-view+json": {
       "model_id": "23be2d984dcc44ba815e95e2087b1431",
       "version_major": 2,
       "version_minor": 0
      },
      "text/plain": [
       "Epoch 1/5:   0%|          | 0/4 [00:21<?, ?batch/s]"
      ]
     },
     "metadata": {},
     "output_type": "display_data"
    },
    {
     "name": "stdout",
     "output_type": "stream",
     "text": [
      "Epoch 1, Loss: 4.764323711395264\n"
     ]
    },
    {
     "data": {
      "application/vnd.jupyter.widget-view+json": {
       "model_id": "b14cc3b331ec4634a0c018142f9f73ec",
       "version_major": 2,
       "version_minor": 0
      },
      "text/plain": [
       "Epoch 2/5:   0%|          | 0/4 [00:22<?, ?batch/s]"
      ]
     },
     "metadata": {},
     "output_type": "display_data"
    },
    {
     "name": "stdout",
     "output_type": "stream",
     "text": [
      "Epoch 2, Loss: 4.356222748756409\n"
     ]
    },
    {
     "data": {
      "application/vnd.jupyter.widget-view+json": {
       "model_id": "285dd942823f44a2b3f3bf902a175a45",
       "version_major": 2,
       "version_minor": 0
      },
      "text/plain": [
       "Epoch 3/5:   0%|          | 0/4 [00:22<?, ?batch/s]"
      ]
     },
     "metadata": {},
     "output_type": "display_data"
    },
    {
     "name": "stdout",
     "output_type": "stream",
     "text": [
      "Epoch 3, Loss: 3.773183524608612\n"
     ]
    },
    {
     "data": {
      "application/vnd.jupyter.widget-view+json": {
       "model_id": "6e90ce9fd75f4295a0cdfbb8e82e3626",
       "version_major": 2,
       "version_minor": 0
      },
      "text/plain": [
       "Epoch 4/5:   0%|          | 0/4 [00:22<?, ?batch/s]"
      ]
     },
     "metadata": {},
     "output_type": "display_data"
    },
    {
     "name": "stdout",
     "output_type": "stream",
     "text": [
      "Epoch 4, Loss: 3.105807900428772\n"
     ]
    },
    {
     "data": {
      "application/vnd.jupyter.widget-view+json": {
       "model_id": "4a63dc15ee484b539b11d7d9879626f4",
       "version_major": 2,
       "version_minor": 0
      },
      "text/plain": [
       "Epoch 5/5:   0%|          | 0/4 [00:20<?, ?batch/s]"
      ]
     },
     "metadata": {},
     "output_type": "display_data"
    },
    {
     "name": "stdout",
     "output_type": "stream",
     "text": [
      "Epoch 5, Loss: 2.3831313252449036\n"
     ]
    },
    {
     "data": {
      "application/vnd.jupyter.widget-view+json": {
       "model_id": "20895a3de4e84b7d89cfefaeb5c45c31",
       "version_major": 2,
       "version_minor": 0
      },
      "text/plain": [
       "Evaluating:   0%|          | 0/4 [00:37<?, ?batch/s]"
      ]
     },
     "metadata": {},
     "output_type": "display_data"
    },
    {
     "name": "stdout",
     "output_type": "stream",
     "text": [
      "Accuracy: 2.00%\n"
     ]
    }
   ],
   "source": [
    "print(\"Training and evaluating the original model...\")\n",
    "original_model = mobilenet_v2(pretrained=True)\n",
    "original_model.classifier[1] = nn.Linear(original_model.last_channel, 100)  # CIFAR100에 맞게 수정\n",
    "original_model = original_model.cuda()\n",
    "\n",
    "criterion = nn.CrossEntropyLoss()\n",
    "optimizer = optim.SGD(original_model.parameters(), lr=0.01, momentum=0.9)\n",
    "train_model(original_model, train_loader, criterion, optimizer, num_epochs=5)\n",
    "original_accuracy = evaluate_model(original_model, test_loader)"
   ]
  },
  {
   "cell_type": "code",
   "execution_count": 12,
   "metadata": {},
   "outputs": [
    {
     "name": "stdout",
     "output_type": "stream",
     "text": [
      "Original Model Accuracy: 2.00%\n",
      "Quantized Model Accuracy: 0.00%\n"
     ]
    }
   ],
   "source": [
    "# 결과 출력\n",
    "print(f\"Original Model Accuracy: {original_accuracy * 100:.2f}%\")\n",
    "print(f\"Quantized Model Accuracy: {quantized_accuracy * 100:.2f}%\")"
   ]
  }
 ],
 "metadata": {
  "kernelspec": {
   "display_name": "NLP",
   "language": "python",
   "name": "python3"
  },
  "language_info": {
   "codemirror_mode": {
    "name": "ipython",
    "version": 3
   },
   "file_extension": ".py",
   "mimetype": "text/x-python",
   "name": "python",
   "nbconvert_exporter": "python",
   "pygments_lexer": "ipython3",
   "version": "3.11.10"
  }
 },
 "nbformat": 4,
 "nbformat_minor": 2
}
